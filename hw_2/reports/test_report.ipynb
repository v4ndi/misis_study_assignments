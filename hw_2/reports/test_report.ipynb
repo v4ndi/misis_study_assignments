{
 "cells": [
  {
   "cell_type": "markdown",
   "metadata": {},
   "source": [
    "# Tests report \n",
    "[link on board](https://miro.com/app/board/uXjVNdRqgdQ=/?share_link_id=867643206787)  \n",
    "  \n",
    "  \n",
    "![](../materials/tree_test.png)"
   ]
  },
  {
   "cell_type": "code",
   "execution_count": 7,
   "metadata": {},
   "outputs": [
    {
     "name": "stdout",
     "output_type": "stream",
     "text": [
      "\u001b[1m============================= test session starts =============================\u001b[0m\n",
      "platform win32 -- Python 3.10.4, pytest-7.4.2, pluggy-1.3.0\n",
      "rootdir: d:\\hacktons\\diskra_3sem\\hw_2\n",
      "plugins: anyio-4.0.0\n",
      "collected 4 items\n",
      "\n",
      "tests\\tests.py \u001b[32m.\u001b[0m\u001b[32m.\u001b[0m\u001b[32m.\u001b[0m\u001b[32m.\u001b[0m\u001b[32m                                                      [100%]\u001b[0m\n",
      "\n",
      "\u001b[32m============================== \u001b[32m\u001b[1m4 passed\u001b[0m\u001b[32m in 2.35s\u001b[0m\u001b[32m ==============================\u001b[0m\n"
     ]
    }
   ],
   "source": [
    "!cd .. && pytest tests/tests.py"
   ]
  },
  {
   "cell_type": "markdown",
   "metadata": {},
   "source": [
    "## Выводы\n",
    "В процессе написания тестов удалось найти ошибку при отстутствии города в профиле. Ошибка была исправлена"
   ]
  }
 ],
 "metadata": {
  "kernelspec": {
   "display_name": "Python 3.10.4 64-bit",
   "language": "python",
   "name": "python3"
  },
  "language_info": {
   "codemirror_mode": {
    "name": "ipython",
    "version": 3
   },
   "file_extension": ".py",
   "mimetype": "text/x-python",
   "name": "python",
   "nbconvert_exporter": "python",
   "pygments_lexer": "ipython3",
   "version": "3.10.4"
  },
  "orig_nbformat": 4,
  "vscode": {
   "interpreter": {
    "hash": "1c72fe1a59aade6d354c045d073c96bc7b4e06366c32218708d29061a896f6f6"
   }
  }
 },
 "nbformat": 4,
 "nbformat_minor": 2
}
